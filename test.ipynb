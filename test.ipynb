{
 "cells": [
  {
   "cell_type": "code",
   "execution_count": 33,
   "metadata": {},
   "outputs": [],
   "source": [
    "import google.generativeai as genai\n",
    "from api import API_TOKEN\n",
    "import json"
   ]
  },
  {
   "cell_type": "code",
   "execution_count": 3,
   "metadata": {},
   "outputs": [],
   "source": [
    "%%capture\n",
    "\n",
    "genai.configure(api_key=API_TOKEN)\n"
   ]
  },
  {
   "cell_type": "code",
   "execution_count": 35,
   "metadata": {},
   "outputs": [
    {
     "data": {
      "text/plain": [
       "{'industry': 'Finance',\n",
       " 'function': 'Product',\n",
       " 'company': 'JP Morgan & Chase',\n",
       " 'job_id': '210568615',\n",
       " 'role_name': 'Executive Director, Product Director – Digital Payments',\n",
       " 'locations': [{'country': 'United States of America',\n",
       "   'alpha2': 'US',\n",
       "   'city': 'New York',\n",
       "   'region1': 'New York',\n",
       "   'region2': 'NY',\n",
       "   'region3': None}],\n",
       " 'seniority': None,\n",
       " 'education': None,\n",
       " 'certificates': None,\n",
       " 'language': None,\n",
       " 'skills': ['Apache Spark',\n",
       "  'TypeScript',\n",
       "  'C++',\n",
       "  'Go',\n",
       "  'Cypress',\n",
       "  'Excel',\n",
       "  'Microsoft Word'],\n",
       " 'schedule': 'Full time',\n",
       " 'remote': None,\n",
       " 'travel': None,\n",
       " 'salary': None,\n",
       " 'benefits': None,\n",
       " 'job_description': '<p>The Payments organization is a motivated, forward thinking team with a singular focus of delivering innovative payment services via the most important platforms of today and tomorrow. We seek to transform customer experiences, simplify the ways we do business, and tirelessly drive toward product excellence.&nbsp;We value controls, simplicity, and consistency in the capabilities and features we deliver.</p>\\n<p>As an Executive Director, Senior Product Lead Digital Payments in the Payments organization, you will oversee the development and implementation of our tokenization strategy. Your responsibilities will include managing the tokenization product and platform, tracking metrics, and scaling the platform. You will also maintain relationships with networks to monitor mandates and propel strategic initiatives related to tokenization. Lastly, you will collaborate closely with Technology to promote product development using Agile methodologies.</p>\\n<p><strong>Job Responsibilities:&nbsp;</strong></p>\\n<ul>\\n <li>Develop, evangelize and implement Chase’s tokenization strategy that incorporate market trends from issuers, networks and merchants as well as Chase assets and insights.</li>\\n <li>Manage tokenization product and platform to drive product operations, track metrics, and scale the platform</li>\\n <li>Manage relationship with networks to track mandates and drive strategic initiatives with respect to tokenization</li>\\n <li>Coordinate with internal teams to manage fraud, servicing, risk and controls and track agreements with partners</li>\\n <li>Drive product development in close partnership with Technology using Agile</li>\\n</ul>\\n<p><strong>Required Qualifications, capabilities and skills:</strong></p>\\n<ul>\\n <li>10 + years of experience in financial services, digital and/or product management</li>\\n <li>4+ years of experience with Digital Wallets, Payments and Network Tokenization capabilities from issuer, network and/or merchant perspective.&nbsp;&nbsp;</li>\\n <li>Strong strategic thinker with ability to proactively craft product strategy and associated product roadmap</li>\\n <li>Demonstrated ability to launch products and capabilities working with a cross-functional team.</li>\\n <li>Commercial and financial acumen to craft business cases, develop actionable customer and industry insights and actively manage external stakeholders</li>\\n <li>Proven leadership track record in a product leadership role including setting up high impact teams</li>\\n <li>Experience working in Agile required</li>\\n <li>Bachelor’s degree required</li>\\n</ul>\\n<p><strong>Preferred Qualifications, capabilities and skills:</strong></p>\\n<ul>\\n <li>MBA Preferred</li>\\n <li>Experience driving agile transformation is a plus</li>\\n</ul>\\n<p class=\"MsoNormal\" style=\"margin-bottom: 0.0001pt;\">Chase is a leading financial services firm, helping nearly half of America’s households and small businesses achieve their financial goals through a broad range of financial products. Our mission is to create engaged, lifelong relationships and put our customers at the heart of everything we do. We also help small businesses, nonprofits and cities grow, delivering solutions to solve all their financial needs.&nbsp;</p>\\n<p class=\"MsoNormal\" style=\"margin-bottom: 0.0001pt;\">We offer a competitive total rewards package including base salary determined based on the role, experience, skill set, and location. Those in eligible roles may receive commission-based pay and/or discretionary incentive compensation awarded in recognition of individual achievements and contributions. We also offer a range of benefits and programs to meet employee needs, based on eligibility. These benefits include comprehensive health care coverage, on-site health and wellness centers, a retirement savings plan, backup childcare, tuition reimbursement, mental health support, financial coaching and more. Additional details about total compensation and benefits will be provided during the hiring process.&nbsp;</p>\\n<p class=\"MsoNormal\" style=\"mso-margin-top-alt:auto;mso-margin-bottom-alt:auto;\"><span></span></p>\\n<p class=\"MsoNormal\" style=\"margin-left: 0.5in;\"></p>\\n<p class=\"MsoNormal\" style=\"margin-bottom: 0.0001pt;\">We recognize that our people are our strength and the diverse talents they bring to our global workforce are directly linked to our success. We are an equal opportunity employer and place a high value on diversity and inclusion at our company. We do not discriminate on the basis of any protected attribute, including race, religion, color, national origin, gender, sexual orientation, gender identity, gender expression, age, marital or veteran status, pregnancy or disability, or any other basis protected under applicable law. We also make reasonable accommodations for applicants’ and employees’ religious practices and beliefs, as well as mental health or physical disability needs. Visit our&nbsp;<a href=\"https://careers.jpmorgan.com/us/en/how-we-hire/faqs\" target=\"_blank\" rel=\"nofollow\" style=\"text-decoration: var(--aui-link-decoration);\">FAQs</a>&nbsp;for more information about requesting an accommodation.</p>\\n<p class=\"MsoNormal\" style=\"margin-bottom: 0.0001pt;\">Equal Opportunity Employer/Disability/Veterans</p>\\n<div>\\n Our Consumer &amp; Community Banking division serves our Chase customers through a range of financial services, including personal banking, credit cards, mortgages, auto financing, investment advice, small business loans and payment processing. We’re proud to lead the U.S. in credit card sales and deposit growth and have the most-used digital solutions – all while ranking first in customer satisfaction.\\n</div>\\n<div>\\n <br/>\\n</div>\\n<div>\\n We offer a broad array of credit cards to meet the needs of individuals and small businesses, including Chase-branded and co-branded cards in partnership with well-known companies and organizations. Merchant Services is a leading provider of payment, fraud and data security for companies, capable of authorizing transactions across global currencies.\\n</div>',\n",
       " 'short_description': 'Be part of a new payments product and experience the full product development lifecycle. Build 0 to 1 for millions of customers',\n",
       " 'company_website': 'https://www.jpmorganchase.com/careers',\n",
       " 'is_professional': True,\n",
       " 'posted_datetime': '2024-12-07T04:02:40+00:00',\n",
       " 'expiration_datetime': None,\n",
       " 'start_date': None,\n",
       " 'job_url': 'https://jpmc.fa.oraclecloud.com/hcmUI/CandidateExperience/en/sites/CX_1001/requisitions/job/210568615'}"
      ]
     },
     "execution_count": 35,
     "metadata": {},
     "output_type": "execute_result"
    }
   ],
   "source": [
    "jobs = json.load(open(\"jpmc.json\"))\n",
    "jobs[0]"
   ]
  },
  {
   "cell_type": "code",
   "execution_count": null,
   "metadata": {},
   "outputs": [],
   "source": [
    "system_instruction = \"\"\"\n",
    "Act as if you were an expert in machine learning and artificial intelligence \n",
    "explaining concepts to a technical audience.\n",
    "\"\"\"\n",
    "\n",
    "\n",
    "model = genai.GenerativeModel(\n",
    "    \"gemini-1.5-flash\",\n",
    "    system_instruction=system_instruction\n",
    ")\n",
    "\n",
    "model.generate_content(\"Explain how tranformers work in machine learning.\")"
   ]
  },
  {
   "cell_type": "code",
   "execution_count": 36,
   "metadata": {},
   "outputs": [
    {
     "data": {
      "text/plain": [
       "'<p>The Payments organization is a motivated, forward thinking team with a singular focus of delivering innovative payment services via the most important platforms of today and tomorrow. We seek to transform customer experiences, simplify the ways we do business, and tirelessly drive toward product excellence.&nbsp;We value controls, simplicity, and consistency in the capabilities and features we deliver.</p>\\n<p>As an Executive Director, Senior Product Lead Digital Payments in the Payments organization, you will oversee the development and implementation of our tokenization strategy. Your responsibilities will include managing the tokenization product and platform, tracking metrics, and scaling the platform. You will also maintain relationships with networks to monitor mandates and propel strategic initiatives related to tokenization. Lastly, you will collaborate closely with Technology to promote product development using Agile methodologies.</p>\\n<p><strong>Job Responsibilities:&nbsp;</strong></p>\\n<ul>\\n <li>Develop, evangelize and implement Chase’s tokenization strategy that incorporate market trends from issuers, networks and merchants as well as Chase assets and insights.</li>\\n <li>Manage tokenization product and platform to drive product operations, track metrics, and scale the platform</li>\\n <li>Manage relationship with networks to track mandates and drive strategic initiatives with respect to tokenization</li>\\n <li>Coordinate with internal teams to manage fraud, servicing, risk and controls and track agreements with partners</li>\\n <li>Drive product development in close partnership with Technology using Agile</li>\\n</ul>\\n<p><strong>Required Qualifications, capabilities and skills:</strong></p>\\n<ul>\\n <li>10 + years of experience in financial services, digital and/or product management</li>\\n <li>4+ years of experience with Digital Wallets, Payments and Network Tokenization capabilities from issuer, network and/or merchant perspective.&nbsp;&nbsp;</li>\\n <li>Strong strategic thinker with ability to proactively craft product strategy and associated product roadmap</li>\\n <li>Demonstrated ability to launch products and capabilities working with a cross-functional team.</li>\\n <li>Commercial and financial acumen to craft business cases, develop actionable customer and industry insights and actively manage external stakeholders</li>\\n <li>Proven leadership track record in a product leadership role including setting up high impact teams</li>\\n <li>Experience working in Agile required</li>\\n <li>Bachelor’s degree required</li>\\n</ul>\\n<p><strong>Preferred Qualifications, capabilities and skills:</strong></p>\\n<ul>\\n <li>MBA Preferred</li>\\n <li>Experience driving agile transformation is a plus</li>\\n</ul>\\n<p class=\"MsoNormal\" style=\"margin-bottom: 0.0001pt;\">Chase is a leading financial services firm, helping nearly half of America’s households and small businesses achieve their financial goals through a broad range of financial products. Our mission is to create engaged, lifelong relationships and put our customers at the heart of everything we do. We also help small businesses, nonprofits and cities grow, delivering solutions to solve all their financial needs.&nbsp;</p>\\n<p class=\"MsoNormal\" style=\"margin-bottom: 0.0001pt;\">We offer a competitive total rewards package including base salary determined based on the role, experience, skill set, and location. Those in eligible roles may receive commission-based pay and/or discretionary incentive compensation awarded in recognition of individual achievements and contributions. We also offer a range of benefits and programs to meet employee needs, based on eligibility. These benefits include comprehensive health care coverage, on-site health and wellness centers, a retirement savings plan, backup childcare, tuition reimbursement, mental health support, financial coaching and more. Additional details about total compensation and benefits will be provided during the hiring process.&nbsp;</p>\\n<p class=\"MsoNormal\" style=\"mso-margin-top-alt:auto;mso-margin-bottom-alt:auto;\"><span></span></p>\\n<p class=\"MsoNormal\" style=\"margin-left: 0.5in;\"></p>\\n<p class=\"MsoNormal\" style=\"margin-bottom: 0.0001pt;\">We recognize that our people are our strength and the diverse talents they bring to our global workforce are directly linked to our success. We are an equal opportunity employer and place a high value on diversity and inclusion at our company. We do not discriminate on the basis of any protected attribute, including race, religion, color, national origin, gender, sexual orientation, gender identity, gender expression, age, marital or veteran status, pregnancy or disability, or any other basis protected under applicable law. We also make reasonable accommodations for applicants’ and employees’ religious practices and beliefs, as well as mental health or physical disability needs. Visit our&nbsp;<a href=\"https://careers.jpmorgan.com/us/en/how-we-hire/faqs\" target=\"_blank\" rel=\"nofollow\" style=\"text-decoration: var(--aui-link-decoration);\">FAQs</a>&nbsp;for more information about requesting an accommodation.</p>\\n<p class=\"MsoNormal\" style=\"margin-bottom: 0.0001pt;\">Equal Opportunity Employer/Disability/Veterans</p>\\n<div>\\n Our Consumer &amp; Community Banking division serves our Chase customers through a range of financial services, including personal banking, credit cards, mortgages, auto financing, investment advice, small business loans and payment processing. We’re proud to lead the U.S. in credit card sales and deposit growth and have the most-used digital solutions – all while ranking first in customer satisfaction.\\n</div>\\n<div>\\n <br/>\\n</div>\\n<div>\\n We offer a broad array of credit cards to meet the needs of individuals and small businesses, including Chase-branded and co-branded cards in partnership with well-known companies and organizations. Merchant Services is a leading provider of payment, fraud and data security for companies, capable of authorizing transactions across global currencies.\\n</div>'"
      ]
     },
     "execution_count": 36,
     "metadata": {},
     "output_type": "execute_result"
    }
   ],
   "source": [
    "jobs[0][\"job_description\"]"
   ]
  },
  {
   "cell_type": "code",
   "execution_count": 41,
   "metadata": {},
   "outputs": [
    {
     "data": {
      "text/plain": [
       "response:\n",
       "GenerateContentResponse(\n",
       "    done=True,\n",
       "    iterator=None,\n",
       "    result=protos.GenerateContentResponse({\n",
       "      \"candidates\": [\n",
       "        {\n",
       "          \"content\": {\n",
       "            \"parts\": [\n",
       "              {\n",
       "                \"text\": \"```json\\n{\\n  \\\"experience\\\": [\\n    \\\"10 + years of experience in financial services, digital and/or product management\\\",\\n    \\\"4+ years of experience with Digital Wallets, Payments and Network Tokenization capabilities from issuer, network and/or merchant perspective\\\"\\n  ],\\n  \\\"education\\\": [\\n    \\\"Bachelor\\u2019s degree\\\"\\n  ],\\n  \\\"skills\\\": [\\n    \\\"Strong strategic thinker with ability to proactively craft product strategy and associated product roadmap\\\",\\n    \\\"Demonstrated ability to launch products and capabilities working with a cross-functional team\\\",\\n    \\\"Commercial and financial acumen to craft business cases, develop actionable customer and industry insights and actively manage external stakeholders\\\",\\n    \\\"Proven leadership track record in a product leadership role including setting up high impact teams\\\",\\n    \\\"Experience working in Agile\\\"\\n  ],\\n  \\\"location\\\": \\\"None\\\",\\n  \\\"remote\\\": \\\"None\\\",\\n  \\\"salary\\\": \\\"base salary determined based on the role, experience, skill set, and location. Those in eligible roles may receive commission-based pay and/or discretionary incentive compensation awarded in recognition of individual achievements and contributions\\\"\\n}\\n```\\n\"\n",
       "              }\n",
       "            ],\n",
       "            \"role\": \"model\"\n",
       "          },\n",
       "          \"finish_reason\": \"STOP\",\n",
       "          \"avg_logprobs\": -0.0038512525011281497\n",
       "        }\n",
       "      ],\n",
       "      \"usage_metadata\": {\n",
       "        \"prompt_token_count\": 1399,\n",
       "        \"candidates_token_count\": 244,\n",
       "        \"total_token_count\": 1643\n",
       "      },\n",
       "      \"model_version\": \"gemini-1.5-flash\"\n",
       "    }),\n",
       ")"
      ]
     },
     "execution_count": 41,
     "metadata": {},
     "output_type": "execute_result"
    }
   ],
   "source": [
    "system_instruction = \"\"\"\n",
    "I will show you a job description for a bank firm. I want you to find the following \n",
    "data in the description and list them:\n",
    "\n",
    "- Experience in previous jobs required with label \"experience\"\n",
    "- Education and degree required with label \"education\"\n",
    "- Skills required with label \"skills\"\n",
    "- Job location with label \"location\"\n",
    "- Possibility to work remotely with label \"remote\"\n",
    "- Salary or salary range with label \"salary\"\n",
    "\n",
    "Use None for unavailable data. Output the data in JSON format. Ignore HTLM tags in the text.\n",
    "\"\"\"\n",
    "\n",
    "\n",
    "model = genai.GenerativeModel(\n",
    "    \"gemini-1.5-flash\",\n",
    "    system_instruction=system_instruction\n",
    ")\n",
    "\n",
    "response = model.generate_content(jobs[0][\"job_description\"])\n",
    "response"
   ]
  },
  {
   "cell_type": "code",
   "execution_count": 42,
   "metadata": {},
   "outputs": [
    {
     "name": "stdout",
     "output_type": "stream",
     "text": [
      "```json\n",
      "{\n",
      "  \"experience\": [\n",
      "    \"10 + years of experience in financial services, digital and/or product management\",\n",
      "    \"4+ years of experience with Digital Wallets, Payments and Network Tokenization capabilities from issuer, network and/or merchant perspective\"\n",
      "  ],\n",
      "  \"education\": [\n",
      "    \"Bachelor’s degree\"\n",
      "  ],\n",
      "  \"skills\": [\n",
      "    \"Strong strategic thinker with ability to proactively craft product strategy and associated product roadmap\",\n",
      "    \"Demonstrated ability to launch products and capabilities working with a cross-functional team\",\n",
      "    \"Commercial and financial acumen to craft business cases, develop actionable customer and industry insights and actively manage external stakeholders\",\n",
      "    \"Proven leadership track record in a product leadership role including setting up high impact teams\",\n",
      "    \"Experience working in Agile\"\n",
      "  ],\n",
      "  \"location\": \"None\",\n",
      "  \"remote\": \"None\",\n",
      "  \"salary\": \"base salary determined based on the role, experience, skill set, and location. Those in eligible roles may receive commission-based pay and/or discretionary incentive compensation awarded in recognition of individual achievements and contributions\"\n",
      "}\n",
      "```\n",
      "\n"
     ]
    }
   ],
   "source": [
    "print(response.text)"
   ]
  }
 ],
 "metadata": {
  "kernelspec": {
   "display_name": "scraping",
   "language": "python",
   "name": "python3"
  },
  "language_info": {
   "codemirror_mode": {
    "name": "ipython",
    "version": 3
   },
   "file_extension": ".py",
   "mimetype": "text/x-python",
   "name": "python",
   "nbconvert_exporter": "python",
   "pygments_lexer": "ipython3",
   "version": "3.12.8"
  }
 },
 "nbformat": 4,
 "nbformat_minor": 2
}
